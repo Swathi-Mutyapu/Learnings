{
 "cells": [
  {
   "cell_type": "markdown",
   "metadata": {
    "application/vnd.databricks.v1+cell": {
     "cellMetadata": {},
     "inputWidgets": {},
     "nuid": "1e256195-2967-4636-abd3-fa0a777efa36",
     "showTitle": false,
     "tableResultSettingsMap": {},
     "title": ""
    }
   },
   "source": [
    "### Handling Schema Evolution"
   ]
  },
  {
   "cell_type": "markdown",
   "metadata": {
    "application/vnd.databricks.v1+cell": {
     "cellMetadata": {},
     "inputWidgets": {},
     "nuid": "b0dbacc8-62b2-47da-914e-3be000ff2935",
     "showTitle": false,
     "tableResultSettingsMap": {},
     "title": ""
    }
   },
   "source": [
    "####1.0 Create Table"
   ]
  },
  {
   "cell_type": "code",
   "execution_count": 0,
   "metadata": {
    "application/vnd.databricks.v1+cell": {
     "cellMetadata": {
      "byteLimit": 2048000,
      "rowLimit": 10000
     },
     "inputWidgets": {},
     "nuid": "6cd0849c-9711-46d9-9a5c-91aa8c9e560f",
     "showTitle": false,
     "tableResultSettingsMap": {},
     "title": ""
    }
   },
   "outputs": [
    {
     "name": "stdout",
     "output_type": "stream",
     "text": [
      "+---+-----+---+\n",
      "| id| name|age|\n",
      "+---+-----+---+\n",
      "|  1|Alice| 25|\n",
      "|  2|  Bob| 30|\n",
      "+---+-----+---+\n",
      "\n"
     ]
    }
   ],
   "source": [
    "from pyspark.sql import SparkSession\n",
    "\n",
    "# Initialize Spark Session\n",
    "spark = SparkSession.builder \\\n",
    "    .appName(\"SchemaEvolution\") \\\n",
    "    .config(\"spark.sql.extensions\", \"io.delta.sql.DeltaSparkSessionExtension\") \\\n",
    "    .config(\"spark.sql.catalog.spark_catalog\", \"org.apache.spark.sql.delta.catalog.DeltaCatalog\") \\\n",
    "    .getOrCreate()\n",
    "\n",
    "# Create a Delta Table using SQL\n",
    "spark.sql(\"\"\"\n",
    "    CREATE TABLE IF NOT EXISTS default.user_data (\n",
    "        id INT,\n",
    "        name STRING,\n",
    "        age INT\n",
    "    ) USING DELTA\n",
    "\"\"\")\n",
    "\n",
    "# Insert initial records\n",
    "spark.sql(\"\"\"\n",
    "    INSERT INTO default.user_data VALUES \n",
    "    (1, 'Alice', 25), \n",
    "    (2, 'Bob', 30)\n",
    "\"\"\")\n",
    "\n",
    "# Read table to verify\n",
    "df = spark.sql(\"SELECT * FROM default.user_data\")\n",
    "df.show()\n"
   ]
  },
  {
   "cell_type": "markdown",
   "metadata": {
    "application/vnd.databricks.v1+cell": {
     "cellMetadata": {},
     "inputWidgets": {},
     "nuid": "2cb16233-d98f-40ee-9660-984862c0e809",
     "showTitle": false,
     "tableResultSettingsMap": {},
     "title": ""
    }
   },
   "source": [
    "#### 1.1 Add new data "
   ]
  },
  {
   "cell_type": "code",
   "execution_count": 0,
   "metadata": {
    "application/vnd.databricks.v1+cell": {
     "cellMetadata": {
      "byteLimit": 2048000,
      "rowLimit": 10000
     },
     "inputWidgets": {},
     "nuid": "0d0f2882-1eb7-44c0-a540-ff840bbec05b",
     "showTitle": false,
     "tableResultSettingsMap": {},
     "title": ""
    }
   },
   "outputs": [],
   "source": [
    "#Now lets add new column, job_title for example. \n",
    "#define columns \n",
    "new_columns = [\"id\", \"name\", \"age\", \"job_title\"]\n",
    "# add data into a struct \n",
    "new_data = [(3, \"Charlie\", 35, \"Engineer\")]\n",
    "\n",
    "#convert into a dataframe\n",
    "df_new= spark.createDataFrame(new_data,new_columns)\n",
    "\n"
   ]
  },
  {
   "cell_type": "markdown",
   "metadata": {
    "application/vnd.databricks.v1+cell": {
     "cellMetadata": {},
     "inputWidgets": {},
     "nuid": "6f2923f3-16bf-4d35-8b7b-4ec0dac5c6a2",
     "showTitle": false,
     "tableResultSettingsMap": {},
     "title": ""
    }
   },
   "source": [
    "#### 1.2 Handling schema evolution "
   ]
  },
  {
   "cell_type": "code",
   "execution_count": 0,
   "metadata": {
    "application/vnd.databricks.v1+cell": {
     "cellMetadata": {
      "byteLimit": 2048000,
      "rowLimit": 10000
     },
     "inputWidgets": {},
     "nuid": "59631726-3594-4847-882b-a559ab2f3d06",
     "showTitle": false,
     "tableResultSettingsMap": {},
     "title": ""
    }
   },
   "outputs": [
    {
     "name": "stdout",
     "output_type": "stream",
     "text": [
      "Table after schema evolution:\n",
      "+---+-------+---+---------+\n",
      "| id|   name|age|job_title|\n",
      "+---+-------+---+---------+\n",
      "|  3|Charlie| 35| Engineer|\n",
      "|  1|  Alice| 25|     null|\n",
      "|  2|    Bob| 30|     null|\n",
      "+---+-------+---+---------+\n",
      "\n"
     ]
    }
   ],
   "source": [
    "#Append data with schema evolution enabled \n",
    "df_new.write.format(\"delta\") \\\n",
    "    .mode(\"append\") \\\n",
    "    .option(\"mergeSchema\", \"true\") \\\n",
    "    .insertInto(\"default.user_data\")\n",
    "\n",
    "print(\"Table after schema evolution:\")\n",
    "\n",
    "spark.sql(\"select * FROM default.user_data\").show()"
   ]
  }
 ],
 "metadata": {
  "application/vnd.databricks.v1+notebook": {
   "computePreferences": null,
   "dashboards": [],
   "environmentMetadata": {
    "base_environment": "",
    "environment_version": "1"
   },
   "inputWidgetPreferences": null,
   "language": "python",
   "notebookMetadata": {
    "pythonIndentUnit": 4
   },
   "notebookName": "SchemaEvolution",
   "widgets": {}
  },
  "language_info": {
   "name": "python"
  }
 },
 "nbformat": 4,
 "nbformat_minor": 0
}
